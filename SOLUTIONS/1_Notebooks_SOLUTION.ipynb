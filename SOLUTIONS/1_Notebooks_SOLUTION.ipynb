{
 "cells": [
  {
   "cell_type": "markdown",
   "metadata": {},
   "source": [
    "# Section 1 - Python and Notebooks\n",
    "Complete each the following to learn how to use Jupyter notebooks, and the Pandas library.\n",
    "\n",
    "For a quickstart for Jupyter, check out [this tutorial](https://www.dataquest.io/blog/jupyter-notebook-tutorial/) (you can skip the installation instructions) and [these shortcuts](https://www.dataquest.io/blog/jupyter-notebook-tips-tricks-shortcuts/),  or Google around to find your own tips.\n",
    "\n",
    "The most important thing to know is Jupyter has 2 modes: an editing mode when you're editing a cell (green cell outline), and a command mode (blue cell outline). Editing directly edits the cell's contents, but when in insert mode, keys execute commands, like adding/moving/deleting cells. Enter enters editing mode and Ctrl+Enter or Shift+Enter exits it.\n",
    "\n"
   ]
  },
  {
   "cell_type": "markdown",
   "metadata": {},
   "source": [
    "# The Notebook Interface\n",
    "\n",
    "\n",
    "Downsides\n",
    "\n",
    "\n",
    "**Why Jupyter?** Jupyter notebooks are becoming a standard for data science because they allow you to save not only your code, but also your output (results, visualizations, etc.), and documentation through [markdown](https://www.markdownguide.org/cheat-sheet/).\n",
    "\n"
   ]
  },
  {
   "cell_type": "code",
   "execution_count": null,
   "metadata": {},
   "outputs": [],
   "source": [
    "## CODE ALONG: Delete me! And then create a new cell below me!"
   ]
  },
  {
   "cell_type": "markdown",
   "metadata": {},
   "source": [
    "Drag me above the new cell you created!"
   ]
  },
  {
   "cell_type": "markdown",
   "metadata": {},
   "source": [
    "## Python in the Notebook"
   ]
  },
  {
   "cell_type": "code",
   "execution_count": 44,
   "metadata": {},
   "outputs": [
    {
     "name": "stdout",
     "output_type": "stream",
     "text": [
      "Hello World!\n"
     ]
    }
   ],
   "source": [
    "# CODE ALONG: Print \"Hello World!\"\n",
    "print(\"Hello World!\")"
   ]
  },
  {
   "cell_type": "code",
   "execution_count": 48,
   "metadata": {},
   "outputs": [
    {
     "data": {
      "text/plain": [
       "369"
      ]
     },
     "execution_count": 48,
     "metadata": {},
     "output_type": "execute_result"
    }
   ],
   "source": [
    "# CODE ALONG: Do some basic math.\n",
    "123*3"
   ]
  },
  {
   "cell_type": "code",
   "execution_count": 51,
   "metadata": {},
   "outputs": [
    {
     "data": {
      "text/plain": [
       "15696"
      ]
     },
     "execution_count": 51,
     "metadata": {},
     "output_type": "execute_result"
    }
   ],
   "source": [
    "# CODE ALONG: Working with variables\n",
    "\n",
    "a = 48\n",
    "b = 327\n",
    "\n",
    "result = a*b\n",
    "\n",
    "result"
   ]
  },
  {
   "cell_type": "code",
   "execution_count": 45,
   "metadata": {},
   "outputs": [
    {
     "name": "stdout",
     "output_type": "stream",
     "text": [
      "0\n",
      "1\n",
      "2\n",
      "3\n",
      "4\n",
      "5\n",
      "6\n",
      "7\n",
      "8\n",
      "9\n"
     ]
    }
   ],
   "source": [
    "# CODE ALONG: Write a loop that prints though numbers 0 thru 9\n",
    "#BEGIN \n",
    "for i in range(0,10):\n",
    "    print(i)\n",
    "#END"
   ]
  },
  {
   "cell_type": "code",
   "execution_count": 46,
   "metadata": {},
   "outputs": [
    {
     "name": "stdout",
     "output_type": "stream",
     "text": [
      "Test Var Is Even!\n"
     ]
    }
   ],
   "source": [
    "# CODE ALONG: Write a conditional that prints if `test_var` is odd or even\n",
    "\n",
    "test_var = 8\n",
    "\n",
    "#BEGIN\n",
    "if test_var % 2 == 0:\n",
    "    print(\"Test Var Is Even!\")\n",
    "else:\n",
    "    print(\"Test Var is Odd\")\n",
    "#END"
   ]
  },
  {
   "cell_type": "code",
   "execution_count": 39,
   "metadata": {},
   "outputs": [
    {
     "name": "stdout",
     "output_type": "stream",
     "text": [
      "Printing: 2\n",
      "Printing: 4\n",
      "Printing: 6\n",
      "Printing: 8\n"
     ]
    }
   ],
   "source": [
    "# CODE ALONG: For every number in the list, print \"Printing: <number>\"\n",
    "a_new_list = [2,4,6,8]\n",
    "\n",
    "#BEGIN\n",
    "for i in a_new_list:\n",
    "    print(\"Printing: {0}\".format(i))\n",
    "#END"
   ]
  },
  {
   "cell_type": "markdown",
   "metadata": {},
   "source": [
    "## Non-linearity\n",
    "\n",
    "Science, math, and pretty much any sort of data analysis is *messy*."
   ]
  },
  {
   "cell_type": "code",
   "execution_count": 60,
   "metadata": {},
   "outputs": [
    {
     "name": "stdout",
     "output_type": "stream",
     "text": [
      "48\n",
      "327\n",
      "[2, 4, 6, 8]\n"
     ]
    }
   ],
   "source": [
    "# <--- See those brackets just outside this cell?\n",
    "# You'll notice that when you execute a cell, it's filled with a number.\n",
    "# This is when in the current session this cell has been executed\n",
    "\n",
    "# For example, we can still refer to the variables we defined a few cells ago!\n",
    "print(a)\n",
    "print(b)\n",
    "print(a_new_list)"
   ]
  },
  {
   "cell_type": "code",
   "execution_count": 61,
   "metadata": {},
   "outputs": [],
   "source": [
    "# ON YOUR OWN:\n",
    "# Change the following function to return the average of a and b\n",
    "# Then, rerun the function call below and get the new result\n",
    "def sum_evens(in_list):\n",
    "    new_value = 0\n",
    "    \n",
    "    # BEGIN SOLUTION\n",
    "    for i in in_list:\n",
    "        if i % 2 == 0:\n",
    "            new_value += i\n",
    "    # END SOLUTION\n",
    "    \n",
    "    return new_value\n",
    "    "
   ]
  },
  {
   "cell_type": "code",
   "execution_count": 63,
   "metadata": {},
   "outputs": [],
   "source": [
    "# Rerun after checkup\n",
    "new_list = [1,2,3,4,5,6]\n",
    "summed_list = sum_evens(new_list)"
   ]
  },
  {
   "cell_type": "markdown",
   "metadata": {},
   "source": [
    "In a kernel session, even if you delete a cell containing a variable, the variable itself still persists."
   ]
  },
  {
   "cell_type": "code",
   "execution_count": 67,
   "metadata": {},
   "outputs": [],
   "source": [
    "def dummy_function(a,b):\n",
    "    return a+b"
   ]
  },
  {
   "cell_type": "code",
   "execution_count": 69,
   "metadata": {},
   "outputs": [],
   "source": [
    "dummy_var = dummy_function(2,3)"
   ]
  },
  {
   "cell_type": "code",
   "execution_count": 74,
   "metadata": {},
   "outputs": [
    {
     "name": "stdout",
     "output_type": "stream",
     "text": [
      "5\n",
      "12\n"
     ]
    }
   ],
   "source": [
    "# CODE ALONG: Delete the above two cells.\n",
    "# Then run this cell. Notice what happens?\n",
    "\n",
    "print(dummy_var)\n",
    "\n",
    "#Now, try calling `dummy_function` again and see how it still persists.\n",
    "\n",
    "#SOLUTION\n",
    "print(dummy_function(5,7))\n",
    "#END"
   ]
  },
  {
   "cell_type": "markdown",
   "metadata": {},
   "source": [
    "Finally, go to `Kernel->Restart Kernel and Run All Cells`\n",
    "\n",
    "What happens to the above cell? Why?"
   ]
  },
  {
   "cell_type": "markdown",
   "metadata": {},
   "source": [
    "# Basic Markdown\n",
    "\n",
    "# This is a Heading\n",
    "## This is a smaller heading!"
   ]
  },
  {
   "cell_type": "markdown",
   "metadata": {},
   "source": [
    "We can make bullet lists\n",
    "\n",
    "- This is *important*\n",
    "    - With things going on\n",
    "- We can make things *italic*...\n",
    "- **Bold**\n",
    "- ***Or even both!***"
   ]
  }
 ],
 "metadata": {
  "kernelspec": {
   "display_name": "Python 3",
   "language": "python",
   "name": "python3"
  },
  "language_info": {
   "codemirror_mode": {
    "name": "ipython",
    "version": 3
   },
   "file_extension": ".py",
   "mimetype": "text/x-python",
   "name": "python",
   "nbconvert_exporter": "python",
   "pygments_lexer": "ipython3",
   "version": "3.8.5"
  }
 },
 "nbformat": 4,
 "nbformat_minor": 5
}
