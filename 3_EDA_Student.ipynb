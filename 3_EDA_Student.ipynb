{
 "cells": [
  {
   "cell_type": "markdown",
   "metadata": {},
   "source": [
    "# Exploratory Data Analysis (EDA)"
   ]
  },
  {
   "cell_type": "markdown",
   "metadata": {},
   "source": [
    "[seaborn](https://seaborn.pydata.org/)"
   ]
  },
  {
   "cell_type": "code",
   "execution_count": 1,
   "metadata": {},
   "outputs": [
    {
     "name": "stderr",
     "output_type": "stream",
     "text": [
      "C:\\Users\\Jimmy\\anaconda3\\lib\\site-packages\\numpy\\_distributor_init.py:30: UserWarning: loaded more than 1 DLL from .libs:\n",
      "C:\\Users\\Jimmy\\anaconda3\\lib\\site-packages\\numpy\\.libs\\libopenblas.FB5AE2TYXYH2IJRDKGDGQ3XBKLKTF43H.gfortran-win_amd64.dll\n",
      "C:\\Users\\Jimmy\\anaconda3\\lib\\site-packages\\numpy\\.libs\\libopenblas64__v0.3.21-gcc_10_3_0.dll\n",
      "  warnings.warn(\"loaded more than 1 DLL from .libs:\"\n"
     ]
    }
   ],
   "source": [
    "import pandas as pd\n",
    "import seaborn as sns"
   ]
  },
  {
   "cell_type": "code",
   "execution_count": 2,
   "metadata": {},
   "outputs": [],
   "source": [
    "grades = pd.read_csv(\"./data.csv\")"
   ]
  },
  {
   "cell_type": "markdown",
   "metadata": {},
   "source": [
    "## Histograms"
   ]
  },
  {
   "cell_type": "code",
   "execution_count": 3,
   "metadata": {},
   "outputs": [],
   "source": [
    "# Follow"
   ]
  },
  {
   "cell_type": "markdown",
   "metadata": {},
   "source": [
    "### Hue\n",
    "\n",
    "If you're making a visulization (histogram, scatterplot, boxplot, etc.), and find yourself wanting to compare that plot across different discrete variables, color or hue is a great way of doing that.\n",
    "\n",
    "Many seaborn plots have the option to specify a variable to be the `hue`, and automatically splits and plots the data accordingly.\n",
    "\n",
    "For example, our main question we want to answer is if hints help. Let's use `hints` as our hue variable and compare the distributions."
   ]
  },
  {
   "cell_type": "code",
   "execution_count": 4,
   "metadata": {},
   "outputs": [],
   "source": [
    "# Follow"
   ]
  },
  {
   "cell_type": "markdown",
   "metadata": {},
   "source": [
    "### Aside: Respecting the Data\n",
    "\n",
    "When you're in the thick of the weeds of analysis, looking at plots and charts and tests, it can be hard to remember that the data you're working with can representing things in the real world. Don't forget that!"
   ]
  },
  {
   "cell_type": "markdown",
   "metadata": {},
   "source": [
    "## Scatterplots"
   ]
  },
  {
   "cell_type": "code",
   "execution_count": 5,
   "metadata": {},
   "outputs": [],
   "source": [
    "# Follow"
   ]
  },
  {
   "cell_type": "markdown",
   "metadata": {},
   "source": [
    "We can pretty it up by using the `.set` function to give it labels"
   ]
  },
  {
   "cell_type": "markdown",
   "metadata": {},
   "source": [
    "## Challenge 1\n",
    "\n",
    "Now that you know a little bit about dataframes and how to plot data, you can *really* start asking and answering interesting questions.\n",
    "\n",
    "### Step 1\n",
    "\n",
    "Using scatter plots, guess which of these grades had the Using scatter plots, guess which of these grades has the strongest correlation with a student's final grade: `Grade_H1`, `Grade_H6`, `Grade_PreCourse`, `Grade_Test2`.\n",
    "\n"
   ]
  },
  {
   "cell_type": "code",
   "execution_count": 6,
   "metadata": {},
   "outputs": [],
   "source": [
    "# Scatter plot code here"
   ]
  },
  {
   "cell_type": "markdown",
   "metadata": {},
   "source": [
    "### Step 2\n",
    "\n",
    "Use the [.corr()](https://pandas.pydata.org/docs/reference/api/pandas.DataFrame.corr.html) function to verify your guess. \n",
    "\n",
    "Try both the `pearson` (the default) and the `spearman` coefficent. \n",
    "\n",
    "What do you notice?\n",
    "\n"
   ]
  },
  {
   "cell_type": "code",
   "execution_count": 7,
   "metadata": {},
   "outputs": [],
   "source": [
    "# Code"
   ]
  },
  {
   "cell_type": "markdown",
   "metadata": {},
   "source": [
    "### Step 3\n",
    "\n",
    "Look at both the first few paragraphs and images of the Wikipedia pages for the [Pearson](https://en.wikipedia.org/wiki/Pearson_correlation_coefficient) and [Spearman](https://en.wikipedia.org/wiki/Spearman%27s_rank_correlation_coefficient) coefficent. \n",
    "\n",
    "With your group, discuss why they give different scores, and which method makes more sense for this data."
   ]
  },
  {
   "cell_type": "markdown",
   "metadata": {},
   "source": [
    "## Pairplots\n"
   ]
  },
  {
   "cell_type": "code",
   "execution_count": 8,
   "metadata": {},
   "outputs": [],
   "source": [
    "# Follow"
   ]
  },
  {
   "cell_type": "markdown",
   "metadata": {},
   "source": [
    "# Boxplots"
   ]
  },
  {
   "cell_type": "code",
   "execution_count": 9,
   "metadata": {},
   "outputs": [],
   "source": [
    "# Follow"
   ]
  },
  {
   "cell_type": "markdown",
   "metadata": {},
   "source": [
    "## Analysis: Part 1"
   ]
  },
  {
   "cell_type": "markdown",
   "metadata": {},
   "source": [
    "### T-tests and p-values\n",
    "\n",
    "At a high level, a t-test aims to see if the means of two populations are the same.\n",
    "\n",
    "Our null-hypothesis is that the mean final grade score between the hints and non hints group is the same (e.g. hints had no effect). To reject the null hypothesis is to say that the means of the two populations are different, and hints have an effect.\n",
    "\n",
    "The smaller the p-value, the more confident we can be in rejecting the null hypothesis. Usually, there are certain thresholds that different fields have on how low a p-value can be before one can be convinced in rejecting it. \n",
    "\n",
    "p < 0.05 is a common one for situations such as these, but in more robust and rigorous applications (e.g. medicine, particle physics), they can be as slim as 10^(-7)"
   ]
  },
  {
   "cell_type": "code",
   "execution_count": 10,
   "metadata": {},
   "outputs": [],
   "source": [
    "import scipy.stats as stats"
   ]
  },
  {
   "cell_type": "code",
   "execution_count": 11,
   "metadata": {},
   "outputs": [],
   "source": [
    "# Follow"
   ]
  },
  {
   "cell_type": "markdown",
   "metadata": {},
   "source": [
    "### Normality Testing\n",
    "\n",
    "A lot of statistical tests assume your data is normal! So before jumping in to making a t-test or anything else, you should check first.\n",
    "\n",
    "Visually is always a good first way to check..."
   ]
  },
  {
   "cell_type": "code",
   "execution_count": 12,
   "metadata": {},
   "outputs": [],
   "source": [
    "# Follow"
   ]
  },
  {
   "cell_type": "markdown",
   "metadata": {},
   "source": [
    "But there are also more robust ways of checking for normality, such as the [Shapiro-Wilk Test](https://docs.scipy.org/doc/scipy/reference/generated/scipy.stats.shapiro.html).\n",
    "\n",
    "The null hypothesis for this test is that the given distribution is a normal distribution. Having a low p-value, and rejecting the null hypothesis, means the distribution is not normal."
   ]
  },
  {
   "cell_type": "code",
   "execution_count": 13,
   "metadata": {},
   "outputs": [],
   "source": [
    "# Follow"
   ]
  },
  {
   "cell_type": "markdown",
   "metadata": {},
   "source": [
    "### Non-parametric Tests\n",
    "\n",
    "The [Mann-Whitney U test](https://en.wikipedia.org/wiki/Mann%E2%80%93Whitney_U_test) is a good non-parametric alternative to what you would use a t-test for. I won't go into too much detail on how it actually works, but let it be known that it works well for data that is not normal."
   ]
  },
  {
   "cell_type": "code",
   "execution_count": 14,
   "metadata": {},
   "outputs": [],
   "source": [
    "# Follow"
   ]
  },
  {
   "cell_type": "markdown",
   "metadata": {},
   "source": [
    "## Wide vs. Long Data\n",
    "\n",
    "Alright, so we have to dig a little bit deeper. Maybe it doesn't impact the final grade. But if hints are given for the homeworks, maybe it *does* help the homeworks. I'd love to be able to see the distributions of all the HW grades at once."
   ]
  },
  {
   "cell_type": "code",
   "execution_count": 15,
   "metadata": {},
   "outputs": [],
   "source": [
    "# Follow"
   ]
  },
  {
   "cell_type": "markdown",
   "metadata": {},
   "source": [
    "There's a bit of a problem though. If we remember\n",
    "\n",
    "`sns.boxplot(data=grades, x=XX, y = YY)`\n",
    "\n",
    "We need to get our data in a format where every row is a homework grade. There should be one column which has the name of the assignment, and one column which has the actual grade.\n",
    "\n",
    "Luckly, pandas has a function that does exactly that! The [.melt()](https://pandas.pydata.org/docs/reference/api/pandas.melt.html) function!"
   ]
  },
  {
   "cell_type": "code",
   "execution_count": 16,
   "metadata": {},
   "outputs": [],
   "source": [
    "# Follow"
   ]
  },
  {
   "cell_type": "markdown",
   "metadata": {},
   "source": [
    "See how each row represents a single homework grade. The `variable` column shows which HW it comes from, and the `value` column shows the actual grade."
   ]
  },
  {
   "cell_type": "code",
   "execution_count": 17,
   "metadata": {},
   "outputs": [],
   "source": [
    "# Follow"
   ]
  },
  {
   "cell_type": "markdown",
   "metadata": {},
   "source": [
    "### Melting with ID Vars\n",
    "\n",
    "What I want to see now, like our previous boxplots, is how having hints effect this. I wonder if can do this by melting the dataframe setting the `hue` to the hints var, like I did before. "
   ]
  },
  {
   "cell_type": "code",
   "execution_count": 18,
   "metadata": {},
   "outputs": [],
   "source": [
    "# Follow"
   ]
  },
  {
   "cell_type": "markdown",
   "metadata": {},
   "source": [
    "### Challenge 2\n",
    "\n",
    "Create paired boxplots showcasing the distribution of grades for each test, based on whether the student had hints or not."
   ]
  },
  {
   "cell_type": "code",
   "execution_count": 19,
   "metadata": {},
   "outputs": [],
   "source": [
    "# Code here!"
   ]
  },
  {
   "cell_type": "markdown",
   "metadata": {},
   "source": [
    "## Challenge 3\n",
    "\n",
    "With your group. Test the following hypothesis.\n",
    "\n",
    "> Students who post more on Piazza perform better on the homeworks (i.e. have an average HW grade of 80 or more) compared to those who do not.\n",
    "\n",
    "Note: The data might have some outliers in it. Use your best judgement to filter out any outliers you might see...\n",
    "\n",
    "**After testing the hypothesis...**\n",
    "\n",
    "Discuss with your group the nature of this hypothesis.\n",
    "- Does it make sense?\n",
    "- What counfounding variables could there be?\n",
    "- How could this result be misinterpreted?"
   ]
  },
  {
   "cell_type": "code",
   "execution_count": 20,
   "metadata": {},
   "outputs": [],
   "source": [
    "# Code here!"
   ]
  }
 ],
 "metadata": {
  "kernelspec": {
   "display_name": "Python 3",
   "language": "python",
   "name": "python3"
  },
  "language_info": {
   "codemirror_mode": {
    "name": "ipython",
    "version": 3
   },
   "file_extension": ".py",
   "mimetype": "text/x-python",
   "name": "python",
   "nbconvert_exporter": "python",
   "pygments_lexer": "ipython3",
   "version": "3.8.5"
  }
 },
 "nbformat": 4,
 "nbformat_minor": 5
}
