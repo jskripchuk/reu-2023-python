{
 "cells": [
  {
   "cell_type": "markdown",
   "metadata": {},
   "source": [
    "# Section 2: Dataframes\n",
    "\n",
    "## Introduction\n",
    "One of the most common forms of \"data\" is *tabular data*. If you are trying to operate on more complex data (e.g. building image recognition software, or music tagging program) you have to start using more nuanced approaches.\n",
    "\n",
    "However, sometimes the most mundane arrangments of data provide the most insight!\n",
    "\n",
    "In this lesson, we will be using the *Pandas* Python library in order to manipulate tabular data.\n",
    "\n",
    "[Cheatsheet](https://pandas.pydata.org/Pandas_Cheat_Sheet.pdf)"
   ]
  },
  {
   "cell_type": "markdown",
   "metadata": {},
   "source": [
    "## CSV Files with Pandas"
   ]
  },
  {
   "cell_type": "markdown",
   "metadata": {},
   "source": [
    "Load the `data.csv` file using pandas and view the data."
   ]
  },
  {
   "cell_type": "code",
   "execution_count": 1,
   "metadata": {},
   "outputs": [],
   "source": [
    "# Follow along..."
   ]
  },
  {
   "cell_type": "markdown",
   "metadata": {},
   "source": [
    "## Subsetting Data\n",
    "### Subsetting by Index\n",
    "The `.iloc` function is useful for numerically subsetting different rows and columns."
   ]
  },
  {
   "cell_type": "code",
   "execution_count": 2,
   "metadata": {},
   "outputs": [],
   "source": [
    "# Follow along..."
   ]
  },
  {
   "cell_type": "code",
   "execution_count": 3,
   "metadata": {},
   "outputs": [],
   "source": [
    "# ON YOUR OWN: Using numerical subsetting...\n",
    "# Get the first three homework grades of the last three rows of data.\n"
   ]
  },
  {
   "cell_type": "markdown",
   "metadata": {},
   "source": [
    "### Subsetting by Name and Chaining\n",
    "\n",
    "Numerical subsetting is useful, but most of the time, your data columns should be clearly labeled."
   ]
  },
  {
   "cell_type": "code",
   "execution_count": 4,
   "metadata": {},
   "outputs": [],
   "source": [
    "# Follow along"
   ]
  },
  {
   "cell_type": "code",
   "execution_count": 5,
   "metadata": {},
   "outputs": [],
   "source": [
    "# ON YOUR OWN: Much like the previous on your own...\n",
    "# Get the first three homework grades of the last three rows of data, \n",
    "# but do it in ONE LINE using column name subsetting and chaining.\n",
    "\n",
    "# PUT SOLUTION HERE"
   ]
  },
  {
   "cell_type": "markdown",
   "metadata": {},
   "source": [
    "## Conditional Selection\n",
    "\n",
    "Alright, now time to get into the interesting stuff"
   ]
  },
  {
   "cell_type": "code",
   "execution_count": 6,
   "metadata": {},
   "outputs": [],
   "source": [
    "# Follow Along.."
   ]
  },
  {
   "cell_type": "markdown",
   "metadata": {},
   "source": [
    "## Reduction and Aggregation"
   ]
  },
  {
   "cell_type": "code",
   "execution_count": 7,
   "metadata": {},
   "outputs": [],
   "source": [
    "# Follow along..."
   ]
  },
  {
   "cell_type": "code",
   "execution_count": 8,
   "metadata": {},
   "outputs": [],
   "source": [
    "# ON YOUR OWN\n",
    "# Out of all the students who DID NOT have hints...\n",
    "# how many scored an A average (higher or equal to 93) on their tests?\n",
    "# HINT: \"~\" is the NOT operator in pandas"
   ]
  },
  {
   "cell_type": "code",
   "execution_count": 9,
   "metadata": {},
   "outputs": [],
   "source": [
    "# CHALLENGE: Can you do it in one line? \n",
    "# QUESTION: Would you want to use this one-liner in a \"real\" scenario (e.g. a job)? Why or why not?\n"
   ]
  },
  {
   "cell_type": "markdown",
   "metadata": {},
   "source": [
    "## Creating New Columns\n",
    "\n",
    "Sometimes, it's useful to store some transformed operations. It's easy to create new columns!"
   ]
  },
  {
   "cell_type": "code",
   "execution_count": null,
   "metadata": {},
   "outputs": [],
   "source": [
    "# Follow along"
   ]
  },
  {
   "cell_type": "markdown",
   "metadata": {},
   "source": [
    "## Complex Operations and Group Bys"
   ]
  },
  {
   "cell_type": "code",
   "execution_count": 11,
   "metadata": {},
   "outputs": [],
   "source": [
    "# Follow Along..."
   ]
  },
  {
   "cell_type": "markdown",
   "metadata": {},
   "source": [
    "# Group"
   ]
  },
  {
   "cell_type": "markdown",
   "metadata": {},
   "source": [
    "## Aside: Vectorized Operations\n",
    "\n"
   ]
  },
  {
   "cell_type": "code",
   "execution_count": null,
   "metadata": {},
   "outputs": [],
   "source": [
    "n = 100000\n",
    "import random\n",
    "import time\n",
    "\n",
    "\n",
    "df = pd.DataFrame(\n",
    "    {\"a\": [random.random() for i in range(n)],\n",
    "     \"b\": [random.random() for i in range(n)]},\n",
    "     index = list(range(n)))"
   ]
  },
  {
   "cell_type": "code",
   "execution_count": null,
   "metadata": {},
   "outputs": [],
   "source": [
    "end_sums = []\n",
    "\n",
    "start = time.time()\n",
    "for i in range(df.shape[0]):\n",
    "    temp_sum = df.iloc[i,0]+df.iloc[i,1]\n",
    "    end_sums.append(temp_sum)\n",
    "end = time.time()\n",
    "\n",
    "basic_time = end-start\n",
    "\n",
    "print(\"Elapsed Time: {0}\".format(basic_time))"
   ]
  },
  {
   "cell_type": "code",
   "execution_count": null,
   "metadata": {},
   "outputs": [],
   "source": [
    "start = time.time()\n",
    "summed_df = df.sum(axis=1)\n",
    "end = time.time()\n",
    "\n",
    "print(summed_df.iloc[0])\n",
    "\n",
    "vector_time = end-start\n",
    "\n",
    "print(\"Elapsed Time: {0}\".format(vector_time))"
   ]
  },
  {
   "cell_type": "code",
   "execution_count": null,
   "metadata": {},
   "outputs": [],
   "source": [
    "basic_time/vector_time"
   ]
  },
  {
   "cell_type": "markdown",
   "metadata": {},
   "source": [
    "If I save that dataframe to a file, it turns out to be around 5MB.\n",
    "\n",
    "Large data analysis projects deal with files on the *gigabyte* or *terabyte* Scale. \n",
    "\n",
    "For example: [The Pile](https://pile.eleuther.ai/), used for Text Language Modeling (such as GPT and other LLMs), clocks in at around 800GB. "
   ]
  }
 ],
 "metadata": {
  "kernelspec": {
   "display_name": "Python 3",
   "language": "python",
   "name": "python3"
  },
  "language_info": {
   "codemirror_mode": {
    "name": "ipython",
    "version": 3
   },
   "file_extension": ".py",
   "mimetype": "text/x-python",
   "name": "python",
   "nbconvert_exporter": "python",
   "pygments_lexer": "ipython3",
   "version": "3.8.5"
  }
 },
 "nbformat": 4,
 "nbformat_minor": 5
}
